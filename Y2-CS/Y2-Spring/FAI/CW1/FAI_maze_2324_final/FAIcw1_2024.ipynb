{
 "cells": [
  {
   "cell_type": "markdown",
   "metadata": {},
   "source": [
    "# FAI Coursework One - Maze Search [15 Marks]\n",
    "# Introduction\n",
    "\n",
    "\n",
    "The main goal of coursework one is to give you first-hand experience on implementing search techniques for solving the problems in Python, one of the mostly adapted high level languages and analytic tools in business and research. The questions are designed to help on your understanding of concept of `problem formulation`, `search algorithms`, `algorithm evluation` and their implementation. \n",
    "\n",
    "In completion of this project:\n",
    "\n",
    "- Students are expected to master the knowledge of formulating maze problem.\n",
    "- Students are expected to use different search algorithms to solve the `maze` problem.\n",
    "- Students are expected know how to implement and evluate different **search algorithm**.\n",
    "\n",
    "## Requirements\n",
    "\n",
    "\n",
    "In this coursework, you are required to complete the implementation of `maze` problem formulation and some `search` algorithms for the `maze` game. Please use the given code to complete the questions and provide your answer/report in this notebook.\n",
    "\n",
    "\n",
    "## Marks\n",
    "\n",
    "Coursework 1 accounts for 15% of the COMP1037 marks. Corresponding marks will be awarded for completing the questions in `FAIcw1_2024.ipynb`. Both **Code** implementation and **report** (text explaination of your design) should be written using this file as the template.\n",
    "\n",
    "<div class=\"alert alert-block alert-info\">\n",
    "<b> 1：</b> Write your explaination and evluation using Markdown cell.\n",
    "</div>\n",
    "\n",
    "<div class=\"alert alert-block alert-info\">\n",
    "<b> 2：</b> Use `Code` cell to input your code. \n",
    "</div>\n",
    "\n",
    "<div class=\"alert alert-block alert-info\">\n",
    "<b> 3：</b> Submit the notebook file `FAIcw1-XXX.ipynb` only.\n",
    "</div>\n",
    "\n",
    "\n",
    "## Note\n",
    "\n",
    "<div class=\"alert alert-block alert-warning\">\n",
    "<b> a：</b> Please run your code in the notebook and upload your notebook together with all the outputs. \n",
    "</div>\n",
    "<div class=\"alert alert-block alert-warning\">\n",
    "<b> b：</b> Avoid using problem setting requires more than 5 mins to get the output. \n",
    "</div>\n",
    "<div class=\"alert alert-block alert-warning\">\n",
    "<b> c：</b> Avoid making any modifications to the three provided modules: maze.py and searchCW.py. Altering these modules will result in a loss of half your marks.\n",
    "</div>\n",
    "\n",
    "\n",
    "# Plagiarism vs. Group Discussions\n",
    "\n",
    "As you should know, there is no tolerance of plagiarism, and any breach of which will be dealt with according to the University's standard policies. Please be very careful not to cross the boundary into plagiarism while having general discussions regarding the coursework to promote the generation of new ideas and to enhance the learning experience. The important part is that when you sit down to actually do the work and write the answers, you do it individually. If you do this, and you truly understand what you have written, you will not be guilty of plagiarism. Do NOT, under any circumstances, share code or share figures, graphs or charts, etc.\n",
    "\n",
    "# Deadline and submission procedure\n",
    "\n",
    "The submission deadline is 5pm on the **19  April 2024** via Moodle. Late submission results into a 5% reduction of your coursework mark for each weekday. Any work handed in after the 29th April will receive zero marks.\n",
    "\n",
    "Name your submission file: <code style=\"background:yellow;color:black\"> FAIcw1-XXX.ipynb, </code> where XXX should be your student number, and submit the single <code style=\"background:yellow;color:black\"> .ipynb or .zip </code>  file via Moodle.\n",
    "\n",
    "If you can’t submit your coursework on time due to Extenuating Circumstances, please contact your personal tutor first. I am only granting an extension of submission based on his / her recommendation."
   ]
  },
  {
   "cell_type": "markdown",
   "metadata": {},
   "source": [
    "## Required libaray installation\n",
    "\n",
    "Before start the coursework, please install the required library first.\n",
    "\n",
    "1. If you're using Windows, open the Conda prompt. For macOS users, open the Terminal.\n",
    "\n",
    "2. Inside the terminal or Conda prompt, ensure you're in the `FAIens` environment, then execute the command: `pip install pygame`. If you encounter any issues during the installation of `pygame`, don't hesitate to seek assistance.\n",
    "\n",
    "3. Proceed to import the necessary module by utilizing the `import pygame`.\n",
    "\n",
    "### To quit the pygame object\n",
    "\n",
    "You can incorporate the following code snippet to gracefully exit the `pygame` window. If you skip this step, you might need to forcibly close the window. Note that once you exit `pygame`, it's necessary to restart the Python kernel and rerun all preceding code from the start to continue working.\n",
    "\n",
    "```python\n",
    "import pygame\n",
    "import os\n",
    "\n",
    "pygame.init()\n",
    "\n",
    "# Your code to render the game or visualization in pygame goes here\n",
    "\n",
    "# Loop to keep the window open and listen for the quit event\n",
    "run = True\n",
    "while run:\n",
    "    for event in pygame.event.get():\n",
    "        if event.type == pygame.QUIT:\n",
    "            run = False\n",
    "\n",
    "# Properly close the pygame window depending on the operating system\n",
    "if os.name == 'nt':\n",
    "    pygame.quit() # For Windows users, use this line to close the window after your operations are complete\n",
    "else:\n",
    "    os._exit(0) # For Mac users, use this line to close the window after your operations are complete\n",
    "```"
   ]
  },
  {
   "cell_type": "code",
   "execution_count": null,
   "metadata": {
    "scrolled": true
   },
   "outputs": [],
   "source": [
    "from maze import *\n",
    "import pygame\n",
    "import os\n",
    "from searchCW import *"
   ]
  },
  {
   "cell_type": "markdown",
   "metadata": {},
   "source": [
    "## Question 1 [1 Mark]\n",
    "\n",
    "In the code cell below, initialize a `mazegrid` object with a grid size of 40 by 40, ensuring the random seed is set to 200. This should be based on the instructions and structure provided in `maze.py`."
   ]
  },
  {
   "cell_type": "code",
   "execution_count": null,
   "metadata": {},
   "outputs": [],
   "source": []
  },
  {
   "cell_type": "markdown",
   "metadata": {},
   "source": [
    "## Question 2 [3 Marks]\n",
    "\n",
    "In the `code` cell below, define a subclass of <span style=\"color:red\">Mazetemp</span> named <span style=\"color:red\">Maze</span> and override the existing `actions(self, state)` method. This new `actions` method should return the <span style=\"color:red\">coordinates</span> of <span style=\"color:red\">valid, unvisited neighbours</span> at the given `state` in the maze.\n",
    "\n",
    "(Hint: A `valid` neighbor is defined as one where there is **no wall** between the current cell and the neighbouring cell.)"
   ]
  },
  {
   "cell_type": "code",
   "execution_count": null,
   "metadata": {},
   "outputs": [],
   "source": []
  },
  {
   "cell_type": "markdown",
   "metadata": {},
   "source": [
    "## Question 3 [2 Marks]\n",
    "\n",
    "In the `code` cell below, implement the following search algorithms: `dfs` (depth_first_tree_search), `ucs` (uniform_cost_search), `greedy search`(greedy_tree_search), and `A* search` (astar_tree_search), using the `breadth_first_tree_search` example code as your foundation."
   ]
  },
  {
   "cell_type": "code",
   "execution_count": null,
   "metadata": {},
   "outputs": [],
   "source": [
    "def breadth_first_tree_search(problem): \n",
    "    \"Search shallowest nodes in the search tree first.\"\n",
    "    node = Node(problem.initial)\n",
    "    frontier = FIFOQueue([node]) \n",
    "    while frontier: \n",
    "        node = frontier.pop() \n",
    "        if problem.is_goal(node.state):\n",
    "            problem.draw_solution_path(node)\n",
    "            return node\n",
    "        problem.draw_visited_cell(node) #to draw the visited cell\n",
    "        for child in expand(problem, node):\n",
    "            frontier.appendleft(child) \n",
    "    return failure\n",
    "\n",
    "## add your implementation below####\n",
    "#####################################\n",
    "\n",
    "\n",
    "\n",
    "\n",
    "\n"
   ]
  },
  {
   "cell_type": "markdown",
   "metadata": {},
   "source": [
    "## Question 4  [2 Marks]\n",
    "\n",
    "In the `code` cell below, initialize a `Maze` object with the initial state set to `(0,0)` and the goal state set to `(39,39)`. Use the `mazegrid` object that you previously created in Q1. Solve the maze problem utilizing one of the five search algorithms in Q3.\n",
    "\n",
    "(Hint: Solving the maze involves displaying both the explored cells and the solution path within the maze window.)"
   ]
  },
  {
   "cell_type": "code",
   "execution_count": null,
   "metadata": {},
   "outputs": [],
   "source": []
  },
  {
   "cell_type": "markdown",
   "metadata": {},
   "source": [
    "## Question 5 [4 Marks]\n",
    "\n",
    "In the `code` cell below, employ the <span style=\"color:red\">report</span> and <span style=\"color:red\">show_bar</span> methods from `lab3` to produce statistics and visualizations, including the number of nodes discovered, the number of goal tests conducted, the total path cost, and the number of actions taken. This analysis should compare **FIVE** different search algorithms across **THREE** varied problem scenarios. You can initialize a smaller maze size for a quick response, such as 30 by 30, 20 by 20.\n",
    "\n",
    "(Hint: Variations in problem scenarios may include different **goal states** or **random seeds**.)"
   ]
  },
  {
   "cell_type": "code",
   "execution_count": null,
   "metadata": {
    "scrolled": true
   },
   "outputs": [],
   "source": [
    "###############################################\n",
    "# add your implementation below ###############\n",
    "###############################################\n",
    "\n",
    "\n",
    "\n",
    "\n",
    "\n",
    "\n",
    "################################################\n",
    "################################################\n",
    "\"\"\"code to quit the pygame\"\"\"\n",
    "run = True\n",
    "while run:\n",
    "    for event in pygame.event.get():\n",
    "        if event.type == pygame.QUIT:\n",
    "            run = False\n",
    "            \n",
    "if os.name == 'nt':\n",
    "    pygame.quit() #if you are windows user, uncomment this line to close the window after the search is done\n",
    "else:\n",
    "    os._exit(0) #if you are Mac user, uncomment this line to close the window after the search is done"
   ]
  },
  {
   "cell_type": "markdown",
   "metadata": {},
   "source": [
    "## Question 6 [3 Marks]. \n",
    "\n",
    "\n",
    "In the `markdown` cell below, compose a report of 200 to 300 words to evaluate the performance of five different search algorithms in solving the maze problem."
   ]
  },
  {
   "cell_type": "markdown",
   "metadata": {},
   "source": []
  },
  {
   "cell_type": "markdown",
   "metadata": {},
   "source": [
    "## Question 7* (bonus 3 Marks). \n",
    "\n",
    "In the `code` cell below, recreate the  <code style=\"background:yellow;color:black\">Maze</code> class and modify the `action_cost(self, s, a, s1)` method to calculate the action cost based on the number of times the path changes direction. Then, reassess the search algorithms using this updated criterion for path cost.\n",
    "\n",
    "**OPTIONAL: Up to 3 bonus marks (but overall score cannot exceed 15 marks)**"
   ]
  },
  {
   "cell_type": "code",
   "execution_count": null,
   "metadata": {},
   "outputs": [],
   "source": []
  }
 ],
 "metadata": {
  "kernelspec": {
   "display_name": "Python 3",
   "language": "python",
   "name": "python3"
  },
  "language_info": {
   "codemirror_mode": {
    "name": "ipython",
    "version": 3
   },
   "file_extension": ".py",
   "mimetype": "text/x-python",
   "name": "python",
   "nbconvert_exporter": "python",
   "pygments_lexer": "ipython3",
   "version": "3.8.5"
  }
 },
 "nbformat": 4,
 "nbformat_minor": 2
}
