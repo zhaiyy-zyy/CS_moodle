{
 "cells": [
  {
   "cell_type": "markdown",
   "metadata": {},
   "source": [
    "# FAI Coursework Two -2024\n",
    "# Introduction\n",
    "\n",
    "The questions are based on the machine learning algorithms covered in labs. Students are expected to indentify the correct syntax to import modules and call functions. Students are aslo expected to evaluate the performance of different algorithms. \n",
    "\n",
    "# Marks\n",
    "\n",
    "Coursework 2 accounts for 10% of the COMP1037 marks. Corresponding marks will be awarded for answering each of the sub-questions in `FAIcw2.ipynb`. Report should be written using this file as the template.\n",
    "\n",
    "1. Answer questions using `Markdown` cell.\n",
    "2. Use `Code` cell to input your code. \n",
    "**Note: (a). please run your code in the notebook and upload your notebook together with all the outputs. (b). avoid using problem setting requires more than 3 mins to get the output. (c). Please only import the packages that are offered in our coursework folder or as the question requirement. (d). If you import other external pacakges, we will remove that and mark your code with the remaining code. **\n",
    "\n",
    "\n",
    "# Plagiarism vs. Group Discussions\n",
    "\n",
    "As you should know, there is no tolerance of plagiarism, and any breach of which will be dealt with according to the University's standard policies. Please be very careful not to cross the boundary into plagiarism while having general discussions regarding the coursework to promote the generation of new ideas and to enhance the learning experience. The important part is that when you sit down to actually do the work and write the answers, you do it individually. If you do this, and you truly understand what you have written, you will not be guilty of plagiarism. Do NOT, under any circumstances, share code or share figures, graphs or charts, etc.\n",
    "\n",
    "# Deadline and submission procedure \n",
    "\n",
    "## <span style=\"background-image: linear-gradient(to right, #FF22AA, #FF9264, #FFFF66, #64FFB4, #00A2FF); font-weight:bold; color:white; text-shadow: -1px 0 black, 0 1px black, 1px 0 black, 0 -1px black;\">20 marks deducted for not submitting as required！</span>\n",
    "The submission deadline is 17:00pm on the <font color=red> **10th  May 2024** </font> via Moodle. Late submission results into a 5% reduction of your coursework mark for each day. Any work handed in after the 11:59pm of 13th May will receive <font color=red> **zero marks**.\n",
    "\n",
    "Name your submission file: <font color=red>FAICW2-XXX.ipynb</font>, where XXX should be your student ID number, for instance, FAICW2-20415678.ipynb, and submit a single file via Moodle.\n",
    "\n",
    "If you can’t submit your coursework on time due to Extenuating Circumstances, please contact your personal tutor first. I am only granting an extension of submission based on his / her recommendation."
   ]
  },
  {
   "cell_type": "markdown",
   "metadata": {},
   "source": [
    "## Part I. Image Classification\n",
    "Answer the following questions related to the *Pokemon Image Classification Data*. Images of four different pokemons \"Bulbasaur\",\"Charmander\",\"Pikachu\",\"Squirtle\" are provided. In this part, you will use these images to train a model to classify pokemons, and evaluate the performance."
   ]
  },
  {
   "cell_type": "markdown",
   "metadata": {},
   "source": [
    "### [5 Marks] 1. Import necessary modules for the questions below. You could only import modules from the following packages: `numpy`, `matplotlib`, `sklearn`, `PIL`, `os`"
   ]
  },
  {
   "cell_type": "code",
   "execution_count": null,
   "metadata": {},
   "outputs": [],
   "source": []
  },
  {
   "cell_type": "markdown",
   "metadata": {},
   "source": [
    "### [10 Marks] 2. Open the directory `Pokemon`, use `matpotlib` to show the first image of each pokemon species."
   ]
  },
  {
   "cell_type": "code",
   "execution_count": null,
   "metadata": {},
   "outputs": [],
   "source": []
  },
  {
   "cell_type": "markdown",
   "metadata": {},
   "source": [
    "### [15 Marks] 3. Load all images and their corresponding labels, flatten the images into vectors, and store them in `numpy` arrays. Print out the shape of the input dataset and the shape of the labels.\n",
    "\n",
    "Hint: You could use the code snippet from lab 6 as the reference, but remember to convert Pokemon names 'Pikachu', 'Bulbasaur', 'Charmander', 'Squirtle' into numerical values 0, 1, 2, 3 as the labels."
   ]
  },
  {
   "cell_type": "code",
   "execution_count": null,
   "metadata": {},
   "outputs": [],
   "source": []
  },
  {
   "cell_type": "markdown",
   "metadata": {},
   "source": [
    "### [10 Marks] 4. Use `sklearn.model_selection.train_test_split` to split the dataset into training and testing sets. Use 80% of the data for training and 20% for testing. Set a custom random seed (e.g., `random_state=1`) to ensure reproducibility."
   ]
  },
  {
   "cell_type": "code",
   "execution_count": null,
   "metadata": {},
   "outputs": [],
   "source": []
  },
  {
   "cell_type": "markdown",
   "metadata": {},
   "source": [
    "### [30 Marks] 5. Use `MLPClassifier` class from the `sklearn.neural_network` as the classifer. Train the model on the training set and evaluate the performance on the testing set. Adjust the parameters of the MLP classifier and observe the changes in the accuracy. Try <u>**three**</u> different parameter configurations, then write a analysis report in a markdown cell. In your report, please specify which parameter setting is the best and explain why. \n",
    "Please set your parameters according to the following requirement:<br>\n",
    "(1). Possible activiation functions: `identity`, `logistic`, `tanh`, and `relu`.<br>\n",
    "(2). Number of maximum iterations: <=200.<br>\n",
    "(3). Number of hidden layers: 2~5, each with neuros of no more than 30.<br>\n",
    "(4). You could specify a custom `learning_rate_init`.<br>\n",
    "(5). Set a custom random seed (i.e., `random_state=1`) to ensure reproducibility.<br>\n",
    "(6). Please fix the other two parameter in MLPClassifier as verbose=True, n_iter_no_change=20.\n"
   ]
  },
  {
   "cell_type": "code",
   "execution_count": null,
   "metadata": {},
   "outputs": [],
   "source": []
  },
  {
   "cell_type": "markdown",
   "metadata": {},
   "source": [
    "### [10 marks] 6. Try to use another classifier (only need to choose one) which we have seen in the previous tutorials to classify the images, such as `Decision Tree`. Compare the performance of the chosen classifier with the MLP classifier in the previous question, <u>briefly</u> explain the reason why the result is better or worse in the markdown cell."
   ]
  },
  {
   "cell_type": "code",
   "execution_count": 1,
   "metadata": {},
   "outputs": [],
   "source": [
    "# code here"
   ]
  },
  {
   "cell_type": "markdown",
   "metadata": {},
   "source": [
    "## Part II. Answer the following questions related to the MDP problem.\n",
    "\n",
    "A student is being chased around the school yard by bullies and must choose whether to Fight or Run. Three states are considered:<br>\n",
    "– Ok (O), when he is fine for the moment.<br>\n",
    "– Caught (C), When the bullies catch up with him and give him noogies<br>\n",
    "– Danger (D), when the bullies are right on his heels and will pursuit him quickly.<br>\n",
    "\n",
    "Let's assume the student begins in state of 'O'. In each state, he has two actions: \"run\" or \"fight\".The transtion probabilities and rewards are defined in the image below. \n",
    "\n",
    "<img src='.\\mdp_pic.jpg' width=50%>"
   ]
  },
  {
   "cell_type": "markdown",
   "metadata": {},
   "source": [
    "### [20 Marks] Import necessary modules and calculte the optimal value and optimal policy for each state using epsilon of 0.001 and gamma of 0.9. Print your results."
   ]
  },
  {
   "cell_type": "code",
   "execution_count": null,
   "metadata": {},
   "outputs": [],
   "source": []
  }
 ],
 "metadata": {
  "kernelspec": {
   "display_name": "Python 3 (ipykernel)",
   "language": "python",
   "name": "python3"
  },
  "language_info": {
   "codemirror_mode": {
    "name": "ipython",
    "version": 3
   },
   "file_extension": ".py",
   "mimetype": "text/x-python",
   "name": "python",
   "nbconvert_exporter": "python",
   "pygments_lexer": "ipython3",
   "version": "3.11.7"
  }
 },
 "nbformat": 4,
 "nbformat_minor": 4
}
